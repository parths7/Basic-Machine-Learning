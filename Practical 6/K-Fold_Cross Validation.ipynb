{
 "cells": [
  {
   "cell_type": "code",
   "execution_count": 43,
   "metadata": {},
   "outputs": [],
   "source": [
    "from sklearn.linear_model import LogisticRegression as LR\n",
    "from sklearn.svm import SVC\n",
    "from sklearn.neighbors import KNeighborsClassifier as KNC"
   ]
  },
  {
   "cell_type": "markdown",
   "metadata": {},
   "source": [
    "Imported different algorithms"
   ]
  },
  {
   "cell_type": "code",
   "execution_count": 55,
   "metadata": {},
   "outputs": [],
   "source": [
    "from sklearn.datasets import load_iris\n",
    "iris = load_iris()"
   ]
  },
  {
   "cell_type": "markdown",
   "metadata": {},
   "source": [
    "Imported Iris dataset"
   ]
  },
  {
   "cell_type": "code",
   "execution_count": 44,
   "metadata": {},
   "outputs": [],
   "source": [
    "lr = LR(max_iter=5000)\n",
    "svm = SVC()\n",
    "knn = KNC()"
   ]
  },
  {
   "cell_type": "markdown",
   "metadata": {},
   "source": [
    "Created objects of Logistic Regression, Support Vector Classifier and KNeighborsClassifier"
   ]
  },
  {
   "cell_type": "code",
   "execution_count": 53,
   "metadata": {},
   "outputs": [
    {
     "name": "stdout",
     "output_type": "stream",
     "text": [
      "Score for Logistic Regression       : [0.96666667 1.         0.93333333 0.96666667 1.        ]\n",
      "Max Score : 1.0 \n",
      "Min Score : 0.9333333333333333\n",
      "\n",
      "Score for Support Vector Classifier : [0.96666667 0.96666667 0.96666667 0.93333333 1.        ]\n",
      "Max Score : 1.0 \n",
      "Min Score : 0.9333333333333333\n",
      "\n",
      "Score for KNeighbors Classifier     : [0.96666667 1.         0.93333333 0.96666667 1.        ]\n",
      "Max Score : 1.0 \n",
      "Min Score : 0.9333333333333333\n",
      "\n"
     ]
    }
   ],
   "source": [
    "from sklearn.model_selection import cross_val_score as cvs\n",
    "\n",
    "l=cvs(lr,iris.data,iris.target,cv=5)\n",
    "s=cvs(svm,iris.data,iris.target,cv=5)\n",
    "k=cvs(knn,iris.data,iris.target,cv=5)\n",
    "\n",
    "print(\"Score for Logistic Regression       :\",l)\n",
    "print(\"Max Score :\",max(l),\"\\nMin Score :\",min(l))\n",
    "print()\n",
    "print(\"Score for Support Vector Classifier :\",s)\n",
    "print(\"Max Score :\",max(s),\"\\nMin Score :\",min(s))\n",
    "print()\n",
    "print(\"Score for KNeighbors Classifier     :\",k)\n",
    "print(\"Max Score :\",max(k),\"\\nMin Score :\",min(k))\n",
    "print()"
   ]
  },
  {
   "cell_type": "markdown",
   "metadata": {},
   "source": [
    "All the algorithms have same accuracy over same dataset"
   ]
  },
  {
   "cell_type": "code",
   "execution_count": 47,
   "metadata": {},
   "outputs": [],
   "source": [
    "from sklearn.datasets import load_digits\n",
    "dg = load_digits()"
   ]
  },
  {
   "cell_type": "markdown",
   "metadata": {},
   "source": [
    "Imported digit dataset"
   ]
  },
  {
   "cell_type": "code",
   "execution_count": 54,
   "metadata": {},
   "outputs": [
    {
     "name": "stdout",
     "output_type": "stream",
     "text": [
      "Score for Logistic Regression       : [0.925      0.87777778 0.93871866 0.93314763 0.89693593]\n",
      "Max Score : 0.9387186629526463 \n",
      "Min Score : 0.8777777777777778\n",
      "\n",
      "Score for Support Vector Classifier : [0.96111111 0.94444444 0.98328691 0.98885794 0.93871866]\n",
      "Max Score : 0.9888579387186629 \n",
      "Min Score : 0.9387186629526463\n",
      "\n",
      "Score for KNeighbors Classifier     : [0.94722222 0.95555556 0.96657382 0.98050139 0.9637883 ]\n",
      "Max Score : 0.9805013927576601 \n",
      "Min Score : 0.9472222222222222\n",
      "\n"
     ]
    }
   ],
   "source": [
    "l=cvs(lr,dg.data,dg.target,cv=5)\n",
    "s=cvs(svm,dg.data,dg.target,cv=5)\n",
    "k=cvs(knn,dg.data,dg.target,cv=5)\n",
    "\n",
    "print(\"Score for Logistic Regression       :\",l)\n",
    "print(\"Max Score :\",max(l),\"\\nMin Score :\",min(l))\n",
    "print()\n",
    "print(\"Score for Support Vector Classifier :\",s)\n",
    "print(\"Max Score :\",max(s),\"\\nMin Score :\",min(s))\n",
    "print()\n",
    "print(\"Score for KNeighbors Classifier     :\",k)\n",
    "print(\"Max Score :\",max(k),\"\\nMin Score :\",min(k))\n",
    "print()"
   ]
  },
  {
   "cell_type": "markdown",
   "metadata": {},
   "source": [
    "Support Vector Classifier has the maximum accuracy over digit dataset"
   ]
  }
 ],
 "metadata": {
  "kernelspec": {
   "display_name": "Python 3",
   "language": "python",
   "name": "python3"
  },
  "language_info": {
   "codemirror_mode": {
    "name": "ipython",
    "version": 3
   },
   "file_extension": ".py",
   "mimetype": "text/x-python",
   "name": "python",
   "nbconvert_exporter": "python",
   "pygments_lexer": "ipython3",
   "version": "3.8.5"
  }
 },
 "nbformat": 4,
 "nbformat_minor": 4
}
